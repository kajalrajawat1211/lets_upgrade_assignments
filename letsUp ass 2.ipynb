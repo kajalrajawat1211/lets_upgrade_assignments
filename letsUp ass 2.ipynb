{
 "cells": [
  {
   "cell_type": "markdown",
   "metadata": {},
   "source": [
    "Question 1 :\n",
    "Research on whether addition, subtraction, multiplication, division, floor division, and modulo operations\n",
    "be performed on complex numbers. Based on your study, implement a Python program to demonstrate\n",
    "these operations."
   ]
  },
  {
   "cell_type": "code",
   "execution_count": 2,
   "metadata": {},
   "outputs": [
    {
     "name": "stdout",
     "output_type": "stream",
     "text": [
      "addition of number a and b is (12+18j)\n",
      "substraction of number a and b is (4+6j)\n",
      "multiplication of number a and b is (-40+96j)\n",
      "division of number a and b is (2+0j)\n"
     ]
    }
   ],
   "source": [
    "def add(a,b):\n",
    "    return a+b \n",
    "    \n",
    "\n",
    "def sub(a,b):\n",
    "    return a-b \n",
    "    \n",
    "\n",
    "\n",
    "def mult(a,b):\n",
    "    return a*b \n",
    "    \n",
    "\n",
    "def div(a,b):\n",
    "    return a/b \n",
    "\n",
    "#cannot take floordivision of CN\n",
    "#cannot modulo of CN\n",
    "def modulus(a,b):\n",
    "    return a%b\n",
    "\n",
    "a=complex(8,12)\n",
    "b=complex(4,6)\n",
    "\n",
    "\n",
    "\n",
    "print(\"addition of number a and b is\",add(a,b))\n",
    "print(\"substraction of number a and b is\",sub(a,b))\n",
    "print(\"multiplication of number a and b is\" ,mult(a,b))   \n",
    "print(\"division of number a and b is\" ,div(a,b)) \n",
    "#print(\"modulus of number a and b is \",modulus(a,b))     "
   ]
  },
  {
   "cell_type": "markdown",
   "metadata": {},
   "source": [
    "Question 2 :\n",
    "Research on range() functions and its parameters. Create a markdown cell and write in your own words\n",
    "(no copy-paste from google please) what you understand about it. Implement a small program of your\n",
    "choice on the same."
   ]
  },
  {
   "cell_type": "code",
   "execution_count": 2,
   "metadata": {},
   "outputs": [
    {
     "name": "stdout",
     "output_type": "stream",
     "text": [
      "1 3 5 7 9 11 13 15 17 19 \n",
      "20 40 50 60 \n",
      "Sum of first 10 natural number : 100\n"
     ]
    }
   ],
   "source": [
    "\"\"\"range() function allows user to generate a series of numbers within a given range. Depending on how many arguments user\n",
    "is passing to the function, user can decide where that series of numbers will begin and end as well as how big the \n",
    "difference will be between one number and the next.range() takes mainly three arguments.\n",
    "\n",
    "start: integer starting from which the sequence of integers is to be returned\n",
    "stop: integer before which the sequence of integers is to be returned.\n",
    "The range of integers end at stop – 1.\n",
    "step: integer value which determines the increment between each integer in the sequence.\"\"\"\n",
    "\n",
    "    \n",
    "for i in range(1,20,2): \n",
    "    print(i, end =\" \") \n",
    "print() \n",
    "  \n",
    "# using range for iteration \n",
    "l = [20, 40, 50, 60] \n",
    "for i in range(len(l)): \n",
    "    print(l[i], end =\" \") \n",
    "print() \n",
    "   \n",
    "sum = 0\n",
    "for i in range(1, 21,2): \n",
    "    sum = sum + i \n",
    "print(\"Sum of first 10 natural number :\", sum) \n",
    "    \n"
   ]
  },
  {
   "cell_type": "markdown",
   "metadata": {},
   "source": [
    "Question-3\n",
    "Consider two numbers. Perform their subtraction and if the result of subtraction is greater than 25, print\n",
    "their multiplication result else print their division result."
   ]
  },
  {
   "cell_type": "code",
   "execution_count": null,
   "metadata": {},
   "outputs": [],
   "source": [
    "a=int(input(\"enter a number\"))\n",
    "b=int(input(\"enter a number\"))\n",
    "\n",
    "z=a-b\n",
    "print(\"substraction is:\",z)\n",
    "\n",
    "if z>25:\n",
    "    print(\"multiplication of a and b is:\",a*b)\n",
    "    \n",
    "else:\n",
    "    print(\"division of a and b is :\",a/b)\n"
   ]
  },
  {
   "cell_type": "markdown",
   "metadata": {},
   "source": [
    "Question 4:\n",
    "Consider a list of 10 elements of integer values. If the number in the list is divisible by 2, print the result as\n",
    "\"square of that number minus 2\"."
   ]
  },
  {
   "cell_type": "code",
   "execution_count": null,
   "metadata": {},
   "outputs": [],
   "source": [
    "a=[1,2,3,4,5,6,7,8,9,10]\n",
    "\n",
    "for i in a:\n",
    "    if i%2==0:\n",
    "        print((i**2)-2)\n",
    "    else:\n",
    "        print(i)\n"
   ]
  },
  {
   "cell_type": "markdown",
   "metadata": {},
   "source": [
    "Question 5:\n",
    "Consider a list of 10 elements. Print all the elements in the list which are greater than 7 when that number\n",
    "is divided  2"
   ]
  },
  {
   "cell_type": "code",
   "execution_count": null,
   "metadata": {},
   "outputs": [],
   "source": [
    "a=[5,40,13,71,4,34,2,57,70,6]\n",
    "\n",
    "\n",
    "for i in a:\n",
    "    z=i/2\n",
    "    if z>7:\n",
    "        print(i)\n",
    "    else:\n",
    "        print(z)"
   ]
  },
  {
   "cell_type": "code",
   "execution_count": null,
   "metadata": {},
   "outputs": [],
   "source": []
  }
 ],
 "metadata": {
  "kernelspec": {
   "display_name": "Python 3",
   "language": "python",
   "name": "python3"
  },
  "language_info": {
   "codemirror_mode": {
    "name": "ipython",
    "version": 3
   },
   "file_extension": ".py",
   "mimetype": "text/x-python",
   "name": "python",
   "nbconvert_exporter": "python",
   "pygments_lexer": "ipython3",
   "version": "3.7.6"
  }
 },
 "nbformat": 4,
 "nbformat_minor": 4
}
