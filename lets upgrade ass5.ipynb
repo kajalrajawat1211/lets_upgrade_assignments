{
 "cells": [
  {
   "cell_type": "markdown",
   "metadata": {},
   "source": [
    "Question 1:\n",
    "Write a program to copy the contents of one file to another using a for loop. (Don’t use built-in copy\n",
    "function)"
   ]
  },
  {
   "cell_type": "code",
   "execution_count": 9,
   "metadata": {},
   "outputs": [],
   "source": [
    "with open(\"hello.txt\") as f:\n",
    "    with open(\"hi.txt\", \"w\") as f1:\n",
    "        for line in f:\n",
    "            f1.write(line)\n",
    "            \n",
    "f1.close()            "
   ]
  },
  {
   "cell_type": "markdown",
   "metadata": {},
   "source": [
    "Question 2:\n",
    "Write a Python program to find maximum and minimum values in the dictionary. Do not use built-in min\n",
    "and max functions."
   ]
  },
  {
   "cell_type": "code",
   "execution_count": 33,
   "metadata": {},
   "outputs": [
    {
     "name": "stdout",
     "output_type": "stream",
     "text": [
      "{'max': (3, 98), 'min': (4, 11)}\n"
     ]
    }
   ],
   "source": [
    "def max_min_counts(data):\n",
    "    max_min = {}\n",
    "    for key,value in data.items():\n",
    "        max_min[\"max\"] = key,value\n",
    "        max_min[\"min\"] = key,value\n",
    "    for key,value in data.items():\n",
    "        if value >= max_min[\"max\"][1]:\n",
    "            max_min[\"max\"]=key,value\n",
    "        if value <= max_min[\"min\"][1]:\n",
    "            max_min[\"min\"]=key,value\n",
    "    return max_min\n",
    "\n",
    "dic={1:45,3:98,7:72,2:44,5:33,8:21,4:11}\n",
    "\n",
    "t=max_min_counts(dic)\n",
    "print(t)\n",
    "\n",
    "\n"
   ]
  },
  {
   "cell_type": "code",
   "execution_count": null,
   "metadata": {},
   "outputs": [],
   "source": []
  }
 ],
 "metadata": {
  "kernelspec": {
   "display_name": "Python 3",
   "language": "python",
   "name": "python3"
  },
  "language_info": {
   "codemirror_mode": {
    "name": "ipython",
    "version": 3
   },
   "file_extension": ".py",
   "mimetype": "text/x-python",
   "name": "python",
   "nbconvert_exporter": "python",
   "pygments_lexer": "ipython3",
   "version": "3.7.6"
  }
 },
 "nbformat": 4,
 "nbformat_minor": 2
}
