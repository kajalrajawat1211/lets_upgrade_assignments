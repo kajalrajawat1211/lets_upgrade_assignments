{
 "cells": [
  {
   "cell_type": "markdown",
   "metadata": {},
   "source": [
    "Question 1 :\n",
    "Write a Python program to find the first 20 non-even prime natural numbers."
   ]
  },
  {
   "cell_type": "code",
   "execution_count": 25,
   "metadata": {},
   "outputs": [
    {
     "name": "stdout",
     "output_type": "stream",
     "text": [
      "3\n",
      "4\n",
      "5\n",
      "7\n",
      "11\n",
      "13\n",
      "17\n",
      "19\n",
      "23\n",
      "29\n",
      "31\n",
      "37\n",
      "41\n",
      "43\n",
      "47\n",
      "53\n",
      "59\n",
      "61\n",
      "67\n",
      "71\n",
      "73\n"
     ]
    }
   ],
   "source": [
    "\n",
    "for num in range(3,75):\n",
    "       if num > 2:\n",
    "            for i in range(3,num):\n",
    "                if (num % i) == 0:\n",
    "                     break\n",
    "            else:\n",
    "                print(num)"
   ]
  },
  {
   "cell_type": "markdown",
   "metadata": {},
   "source": [
    " Question 2 : Write a Python program to implement 15 functions of string."
   ]
  },
  {
   "cell_type": "code",
   "execution_count": 39,
   "metadata": {},
   "outputs": [
    {
     "name": "stdout",
     "output_type": "stream",
     "text": [
      "Hello, World!\n",
      "hello, world!\n",
      "HELLO, WORLD!\n",
      "Jello, World!\n",
      "['Hello', ' World!']\n",
      "Hello, world!\n",
      "hello, world!\n",
      "b'Hello, World!'\n",
      "False\n",
      "4\n",
      "Hello, World!\n",
      "4\n",
      "False\n",
      "False\n",
      "Hello, World!\n"
     ]
    }
   ],
   "source": [
    "#strip() method removes any whitespace from the beginning or the end:\n",
    "a = \" Hello, World! \"\n",
    "print(a.strip()) # returns \"Hello, World!\"\n",
    "\n",
    "#lower() method returns the string in lower case:\n",
    "a = \"Hello, World!\"\n",
    "print(a.lower())\n",
    "\n",
    "#upper() method returns the string in upper case:\n",
    "print(a.upper())\n",
    "\n",
    "#The replace() method replaces a string with another string:\n",
    "print(a.replace(\"H\", \"J\"))\n",
    "\n",
    "#split() method splits the string into substrings if it finds instances of the separator:\n",
    "print(a.split(\",\")) # returns ['Hello', ' World!']\n",
    "\n",
    "#Converts the first character to upper case\n",
    "print(a.capitalize())\n",
    "\n",
    "#Converts string into lower case\n",
    "print(a.casefold())\n",
    "\n",
    "#Returns an encoded version of the string\n",
    "print(a.encode())\n",
    "\n",
    "#Returns true if the string ends with the specified value\n",
    "print(a.endswith('W'))\n",
    "\n",
    "#Searches the string for a specified value and returns the position of where it was found\n",
    "print(a.find('o'))\n",
    "\n",
    "#Formats specified values in a string\n",
    "print(a.format())\n",
    "\n",
    "#Searches the string for a specified value and returns the position of where it was found\n",
    "print(a.index('o'))\n",
    "\n",
    "#Returns True if all characters in the string are alphanumeric\n",
    "print(a.isalnum())\n",
    "\n",
    "#Returns True if all characters in the string are in the alphabet\n",
    "print(a.isalpha())\n",
    "\n",
    "#Returns a left trim version of the string\n",
    "print(a.lstrip())"
   ]
  },
  {
   "cell_type": "markdown",
   "metadata": {},
   "source": [
    "Question 3: Write a Python program to check if the given string is a Palindrome or Anagram or None of them. Display\n",
    "the message accordingly to the user."
   ]
  },
  {
   "cell_type": "code",
   "execution_count": 14,
   "metadata": {},
   "outputs": [
    {
     "name": "stdout",
     "output_type": "stream",
     "text": [
      "enter your stringmadam\n",
      "madam is palindrome\n",
      "True\n",
      "False\n"
     ]
    }
   ],
   "source": [
    "#my_string='madam'\n",
    "\n",
    "my_string=input(\"enter your string\")\n",
    "\n",
    "final_str = \"\"\n",
    "rev = reversed(my_string)\n",
    "\n",
    "if list(my_string) == list(rev):\n",
    "    print(my_string, \"is palindrome\")\n",
    "else:\n",
    "    print(my_string, \"is not palindrome\")\n",
    "\n",
    "def is_anagram(my_string, str2):\n",
    "    list_str1 = list(my_string)\n",
    "    list_str1.sort()\n",
    "    list_str2 = list(str2)\n",
    "    list_str2.sort()\n",
    "\n",
    "    return (list_str1 == list_str2)\n",
    "\n",
    "print(is_anagram(my_string,'damam'))\n",
    "print(is_anagram(my_string,'sir'))\n",
    "\n",
    "\n"
   ]
  },
  {
   "cell_type": "markdown",
   "metadata": {},
   "source": [
    "Question 4:\n",
    "Write a Python's user-defined function that removes all the additional characters from the string and\n",
    "convert it finally to lower case using built-in lower().\n",
    "eg: If the string is \"Dr. Darshan Ingle @AIML Trainer\",\n",
    "then the output be \"drdarshaningleaimltrainer\"."
   ]
  },
  {
   "cell_type": "code",
   "execution_count": 19,
   "metadata": {},
   "outputs": [
    {
     "name": "stdout",
     "output_type": "stream",
     "text": [
      "initial string :  Dr. Darshan Ingle @AIML Trainer\n",
      "final string drdarshaningleaimltrainer\n"
     ]
    }
   ],
   "source": [
    "# initialising string \n",
    "my_string = \"Dr. Darshan Ingle @AIML Trainer\"  \n",
    "# printing initial string \n",
    "print (\"initial string : \", my_string) \n",
    "  \n",
    "# function to demonstrate removal of characters \n",
    "# which are not numbers and alphabets using re \n",
    "getVals = list([val for val in my_string \n",
    "               if val.isalpha() or val.isnumeric()]) \n",
    "  \n",
    "result = \"\".join(getVals) \n",
    "result=result.lower()\n",
    "  \n",
    "print (\"final string\", result) "
   ]
  },
  {
   "cell_type": "code",
   "execution_count": null,
   "metadata": {},
   "outputs": [],
   "source": []
  }
 ],
 "metadata": {
  "kernelspec": {
   "display_name": "Python 3",
   "language": "python",
   "name": "python3"
  },
  "language_info": {
   "codemirror_mode": {
    "name": "ipython",
    "version": 3
   },
   "file_extension": ".py",
   "mimetype": "text/x-python",
   "name": "python",
   "nbconvert_exporter": "python",
   "pygments_lexer": "ipython3",
   "version": "3.7.6"
  }
 },
 "nbformat": 4,
 "nbformat_minor": 4
}
