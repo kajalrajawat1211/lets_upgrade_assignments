{
 "cells": [
  {
   "cell_type": "markdown",
   "metadata": {},
   "source": [
    "Question 1 :\n",
    "Assuming that we have some email addresses in the \"username@companyname.com\" format, please\n",
    "write a program to print the company name of a given email address. Both user names and company\n",
    "names are composed of letters only.\n",
    "Input Format:\n",
    "The first line of the input contains an email address.\n",
    "Output Format:\n",
    "Print the company name in a single line.\n",
    "Example;\n",
    "Input:\n",
    "john@google.com\n",
    "Output:\n",
    "google.\n"
   ]
  },
  {
   "cell_type": "code",
   "execution_count": 1,
   "metadata": {},
   "outputs": [
    {
     "name": "stdout",
     "output_type": "stream",
     "text": [
      "enter your emailgyugiuhj@guy.com\n",
      "8\n",
      "guy"
     ]
    }
   ],
   "source": [
    "email=input(\"enter your email\")\n",
    "x=email.index(\"@\")\n",
    "print(x)\n",
    "print(email[x+1:len(email)-4],end='')"
   ]
  },
  {
   "cell_type": "markdown",
   "metadata": {},
   "source": [
    "Question 2 :\n",
    "Write a program that accepts a comma-separated sequence of words as input and prints the words in a\n",
    "comma-separated sequence after sorting them alphabetically.\n",
    "Input Format:\n",
    "The first line of input contains words separated by the comma.\n",
    "Output Format:\n",
    "Print the sorted words separated by the comma.\n",
    "Example:\n",
    "Input:\n",
    "without,hello,bag,world\n",
    "Output:\n",
    "bag,hello,without,world"
   ]
  },
  {
   "cell_type": "code",
   "execution_count": 2,
   "metadata": {},
   "outputs": [
    {
     "name": "stdout",
     "output_type": "stream",
     "text": [
      "enter data to sortbhjg,hib,b,n,hiu\n",
      "Sorted data are  b bhjg hib hiu n\n"
     ]
    }
   ],
   "source": [
    "words=[x for x in input(\"enter data to sort\").split(',')]\n",
    "words.sort()\n",
    "print (\"Sorted data are \",' '.join(words))\n",
    "\n"
   ]
  },
  {
   "cell_type": "markdown",
   "metadata": {},
   "source": [
    "Question 4:\n",
    "Given a list of n-1 numbers ranging from 1 to n, your task is to find the missing number. There are no\n",
    "duplicates.\n",
    "Input Format:\n",
    "The first line contains n-1 numbers with each number separated by a space.\n",
    "Output Format:\n",
    "Print the missing number\n",
    "Example:\n",
    "Input:\n",
    "1 2 4 6 3 7 8\n",
    "Output:\n",
    "5\n",
    "Explanation:\n",
    "In the above list of numbers 5 is missing and hence 5 is the input"
   ]
  },
  {
   "cell_type": "code",
   "execution_count": 20,
   "metadata": {},
   "outputs": [
    {
     "name": "stdout",
     "output_type": "stream",
     "text": [
      "Missing = 6\n"
     ]
    }
   ],
   "source": [
    "def main(): \n",
    "      \n",
    "    arr = [ 4, 3, 5, 2, 1, 7] \n",
    "      \n",
    "    numberMap = {} \n",
    "      \n",
    "    max = len(arr) \n",
    "    for i in arr: \n",
    "        if not i in numberMap: \n",
    "            numberMap[i] = True\n",
    "              \n",
    "    for i in range(1, max + 1): \n",
    "        if not i in numberMap: \n",
    "            print(\"Missing =\", i) \n",
    "main() \n",
    "  "
   ]
  },
  {
   "cell_type": "markdown",
   "metadata": {},
   "source": [
    "Question 5:\n",
    "With a given list L, write a program to print this list L after removing all duplicate values with original order\n",
    "reserved.\n",
    "Example:\n",
    "If the input list is\n",
    "12 24 35 24 88 120 155 88 120 155\n",
    "Then the output should be\n",
    "12 24 35 88 120 155"
   ]
  },
  {
   "cell_type": "code",
   "execution_count": 21,
   "metadata": {},
   "outputs": [
    {
     "name": "stdout",
     "output_type": "stream",
     "text": [
      "Original list\n",
      "list1:  [45, 76, 87, 45, 32, 12, 87, 98, 12]\n",
      "List after removing duplicate elements\n",
      "list2:  [45, 76, 87, 32, 12, 98]\n"
     ]
    }
   ],
   "source": [
    "L=[45,76,87,45,32,12,87,98,12]\n",
    "\n",
    "# creating another list with unique elements\n",
    "# declare another list \n",
    "L2 = []\n",
    "\n",
    "# appending elements \n",
    "for n in L:\n",
    "    if n not in L2:\n",
    "        L2.append(n)\n",
    "\n",
    "# printing the lists \n",
    "print (\"Original list\")\n",
    "print (\"list1: \", L)\n",
    "print (\"List after removing duplicate elements\")\n",
    "print (\"list2: \", L2)"
   ]
  },
  {
   "cell_type": "code",
   "execution_count": null,
   "metadata": {},
   "outputs": [],
   "source": []
  },
  {
   "cell_type": "code",
   "execution_count": null,
   "metadata": {},
   "outputs": [],
   "source": []
  }
 ],
 "metadata": {
  "kernelspec": {
   "display_name": "Python 3",
   "language": "python",
   "name": "python3"
  },
  "language_info": {
   "codemirror_mode": {
    "name": "ipython",
    "version": 3
   },
   "file_extension": ".py",
   "mimetype": "text/x-python",
   "name": "python",
   "nbconvert_exporter": "python",
   "pygments_lexer": "ipython3",
   "version": "3.7.6"
  }
 },
 "nbformat": 4,
 "nbformat_minor": 4
}
