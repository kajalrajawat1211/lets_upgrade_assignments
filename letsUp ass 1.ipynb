{
 "cells": [
  {
   "cell_type": "markdown",
   "metadata": {},
   "source": [
    "Q-1 substract two complex no."
   ]
  },
  {
   "cell_type": "code",
   "execution_count": 1,
   "metadata": {},
   "outputs": [
    {
     "name": "stdout",
     "output_type": "stream",
     "text": [
      "Substraction is: (1+1j)\n"
     ]
    }
   ],
   "source": [
    "\n",
    "def sub(a,b):\n",
    "    z= a-b \n",
    "    return z\n",
    "\n",
    "a=complex(5,3)\n",
    "b=complex(4,2)\n",
    "\n",
    "\n",
    "print(\"Substraction is:\",sub(a,b))"
   ]
  },
  {
   "cell_type": "markdown",
   "metadata": {},
   "source": [
    " Q-2 Write a program to find the fourth root of a number."
   ]
  },
  {
   "cell_type": "code",
   "execution_count": null,
   "metadata": {},
   "outputs": [],
   "source": [
    "a=int(input(\"enter a number\"))\n",
    "\n",
    "def root(a):\n",
    "    z=a**(1/4)\n",
    "    \n",
    "    return z\n",
    "\n",
    "print(\"the forth root of\" ,a,\"is:\",root(a))\n"
   ]
  },
  {
   "cell_type": "markdown",
   "metadata": {},
   "source": [
    "Q-3 Write a program to swap two numbers in Python with the help of a temporary variable."
   ]
  },
  {
   "cell_type": "code",
   "execution_count": null,
   "metadata": {},
   "outputs": [],
   "source": [
    "x = 5Q-5\n",
    "y = 10\n",
    "\n",
    "# create a temporary variable and swap the values\n",
    "temp = x\n",
    "x = y\n",
    "y = temp\n",
    "\n",
    "print(f'The value of x after swapping  is {x}')\n",
    "print(f'The value of y after swapping  is {y}')"
   ]
  },
  {
   "cell_type": "markdown",
   "metadata": {},
   "source": [
    "Q-4 Write a program to swap two numbers in Python without using a temporary variable."
   ]
  },
  {
   "cell_type": "code",
   "execution_count": null,
   "metadata": {},
   "outputs": [],
   "source": [
    "x = 5\n",
    "y = 10\n",
    "\n",
    "x, y = y, x\n",
    "print(\"x =\", x)\n",
    "print(\"y =\", y)"
   ]
  },
  {
   "cell_type": "markdown",
   "metadata": {},
   "source": [
    "Q-5 Write a program to convert Fahrenheit to kelvin and celsius both."
   ]
  },
  {
   "cell_type": "code",
   "execution_count": null,
   "metadata": {},
   "outputs": [],
   "source": [
    "def F_to_K(F): \n",
    "    return (F + 459.67) * 5/9 \n",
    "\n",
    "\n",
    "def F_to_C(F):\n",
    "    return (F-32)/1.8\n",
    "\n",
    "\n",
    "F=100\n",
    "F_to_K(F)\n",
    "F_to_C(F)\n",
    "\n",
    "\n",
    "\n",
    "print(\"temperature in Kelvin is\",F_to_K(F))\n",
    "print(\"temperature in Celsius is\",F_to_C(F))"
   ]
  },
  {
   "cell_type": "markdown",
   "metadata": {},
   "source": [
    "Q-6 Write a program to demonstrate all the available data types in Python. Hint: Use type() function."
   ]
  },
  {
   "cell_type": "code",
   "execution_count": null,
   "metadata": {},
   "outputs": [],
   "source": [
    "a=2\n",
    "print(\"type of a:\",type(a))\n",
    "b=3.0\n",
    "print(\"type of b:\",type(b))\n",
    "c=\"kajal\"\n",
    "print(\"type of c:\",type(c))\n",
    "d=[1,2,3,\"kajal\"]\n",
    "print(\"type of d:\",type(d))\n",
    "e=(6,7.6,7)\n",
    "print(\"type of e:\",type(e))\n",
    "f={a:1,b:2,c:3}\n",
    "print(\"type of f:\",type(f))\n",
    "g={1,2,3,4}\n",
    "print(\"type of g:\",type(g))"
   ]
  },
  {
   "cell_type": "code",
   "execution_count": null,
   "metadata": {},
   "outputs": [],
   "source": []
  }
 ],
 "metadata": {
  "kernelspec": {
   "display_name": "Python 3",
   "language": "python",
   "name": "python3"
  },
  "language_info": {
   "codemirror_mode": {
    "name": "ipython",
    "version": 3
   },
   "file_extension": ".py",
   "mimetype": "text/x-python",
   "name": "python",
   "nbconvert_exporter": "python",
   "pygments_lexer": "ipython3",
   "version": "3.7.6"
  }
 },
 "nbformat": 4,
 "nbformat_minor": 4
}
